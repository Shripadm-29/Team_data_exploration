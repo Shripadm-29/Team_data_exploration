{
 "cells": [
  {
   "cell_type": "code",
   "execution_count": 2,
   "metadata": {},
   "outputs": [
    {
     "name": "stdout",
     "output_type": "stream",
     "text": [
      "Hello\n"
     ]
    }
   ],
   "source": [
    "print(\"Hello\")"
   ]
  },
  {
   "cell_type": "code",
   "execution_count": 15,
   "metadata": {},
   "outputs": [
    {
     "data": {
      "text/html": [
       "<div>\n",
       "<style scoped>\n",
       "    .dataframe tbody tr th:only-of-type {\n",
       "        vertical-align: middle;\n",
       "    }\n",
       "\n",
       "    .dataframe tbody tr th {\n",
       "        vertical-align: top;\n",
       "    }\n",
       "\n",
       "    .dataframe thead th {\n",
       "        text-align: right;\n",
       "    }\n",
       "</style>\n",
       "<table border=\"1\" class=\"dataframe\">\n",
       "  <thead>\n",
       "    <tr style=\"text-align: right;\">\n",
       "      <th></th>\n",
       "      <th>order_id</th>\n",
       "      <th>quantity</th>\n",
       "      <th>item_name</th>\n",
       "      <th>choice_description</th>\n",
       "      <th>item_price</th>\n",
       "    </tr>\n",
       "  </thead>\n",
       "  <tbody>\n",
       "    <tr>\n",
       "      <th>0</th>\n",
       "      <td>1</td>\n",
       "      <td>1</td>\n",
       "      <td>Chips and Fresh Tomato Salsa</td>\n",
       "      <td>NaN</td>\n",
       "      <td>$2.39</td>\n",
       "    </tr>\n",
       "    <tr>\n",
       "      <th>1</th>\n",
       "      <td>1</td>\n",
       "      <td>1</td>\n",
       "      <td>Izze</td>\n",
       "      <td>[Clementine]</td>\n",
       "      <td>$3.39</td>\n",
       "    </tr>\n",
       "    <tr>\n",
       "      <th>2</th>\n",
       "      <td>1</td>\n",
       "      <td>1</td>\n",
       "      <td>Nantucket Nectar</td>\n",
       "      <td>[Apple]</td>\n",
       "      <td>$3.39</td>\n",
       "    </tr>\n",
       "    <tr>\n",
       "      <th>3</th>\n",
       "      <td>1</td>\n",
       "      <td>1</td>\n",
       "      <td>Chips and Tomatillo-Green Chili Salsa</td>\n",
       "      <td>NaN</td>\n",
       "      <td>$2.39</td>\n",
       "    </tr>\n",
       "    <tr>\n",
       "      <th>4</th>\n",
       "      <td>2</td>\n",
       "      <td>2</td>\n",
       "      <td>Chicken Bowl</td>\n",
       "      <td>[Tomatillo-Red Chili Salsa (Hot), [Black Beans...</td>\n",
       "      <td>$16.98</td>\n",
       "    </tr>\n",
       "  </tbody>\n",
       "</table>\n",
       "</div>"
      ],
      "text/plain": [
       "   order_id  quantity                              item_name  \\\n",
       "0         1         1           Chips and Fresh Tomato Salsa   \n",
       "1         1         1                                   Izze   \n",
       "2         1         1                       Nantucket Nectar   \n",
       "3         1         1  Chips and Tomatillo-Green Chili Salsa   \n",
       "4         2         2                           Chicken Bowl   \n",
       "\n",
       "                                  choice_description item_price  \n",
       "0                                                NaN     $2.39   \n",
       "1                                       [Clementine]     $3.39   \n",
       "2                                            [Apple]     $3.39   \n",
       "3                                                NaN     $2.39   \n",
       "4  [Tomatillo-Red Chili Salsa (Hot), [Black Beans...    $16.98   "
      ]
     },
     "execution_count": 15,
     "metadata": {},
     "output_type": "execute_result"
    }
   ],
   "source": [
    "import pandas\n",
    "import seaborn as sns\n",
    "import matplotlib.pyplot as plt\n",
    "\n",
    "url = 'https://raw.githubusercontent.com/justmarkham/DAT8/master/data/chipotle.tsv'\n",
    "\n",
    "chipotle_data = pandas.read_csv(url, sep = '\\t')\n",
    "\n",
    "chipotle_data.head()\t"
   ]
  },
  {
   "cell_type": "code",
   "execution_count": 4,
   "metadata": {},
   "outputs": [
    {
     "data": {
      "text/html": [
       "<div>\n",
       "<style scoped>\n",
       "    .dataframe tbody tr th:only-of-type {\n",
       "        vertical-align: middle;\n",
       "    }\n",
       "\n",
       "    .dataframe tbody tr th {\n",
       "        vertical-align: top;\n",
       "    }\n",
       "\n",
       "    .dataframe thead th {\n",
       "        text-align: right;\n",
       "    }\n",
       "</style>\n",
       "<table border=\"1\" class=\"dataframe\">\n",
       "  <thead>\n",
       "    <tr style=\"text-align: right;\">\n",
       "      <th></th>\n",
       "      <th>order_id</th>\n",
       "      <th>quantity</th>\n",
       "    </tr>\n",
       "  </thead>\n",
       "  <tbody>\n",
       "    <tr>\n",
       "      <th>count</th>\n",
       "      <td>4622.000000</td>\n",
       "      <td>4622.000000</td>\n",
       "    </tr>\n",
       "    <tr>\n",
       "      <th>mean</th>\n",
       "      <td>927.254868</td>\n",
       "      <td>1.075725</td>\n",
       "    </tr>\n",
       "    <tr>\n",
       "      <th>std</th>\n",
       "      <td>528.890796</td>\n",
       "      <td>0.410186</td>\n",
       "    </tr>\n",
       "    <tr>\n",
       "      <th>min</th>\n",
       "      <td>1.000000</td>\n",
       "      <td>1.000000</td>\n",
       "    </tr>\n",
       "    <tr>\n",
       "      <th>25%</th>\n",
       "      <td>477.250000</td>\n",
       "      <td>1.000000</td>\n",
       "    </tr>\n",
       "    <tr>\n",
       "      <th>50%</th>\n",
       "      <td>926.000000</td>\n",
       "      <td>1.000000</td>\n",
       "    </tr>\n",
       "    <tr>\n",
       "      <th>75%</th>\n",
       "      <td>1393.000000</td>\n",
       "      <td>1.000000</td>\n",
       "    </tr>\n",
       "    <tr>\n",
       "      <th>max</th>\n",
       "      <td>1834.000000</td>\n",
       "      <td>15.000000</td>\n",
       "    </tr>\n",
       "  </tbody>\n",
       "</table>\n",
       "</div>"
      ],
      "text/plain": [
       "          order_id     quantity\n",
       "count  4622.000000  4622.000000\n",
       "mean    927.254868     1.075725\n",
       "std     528.890796     0.410186\n",
       "min       1.000000     1.000000\n",
       "25%     477.250000     1.000000\n",
       "50%     926.000000     1.000000\n",
       "75%    1393.000000     1.000000\n",
       "max    1834.000000    15.000000"
      ]
     },
     "execution_count": 4,
     "metadata": {},
     "output_type": "execute_result"
    }
   ],
   "source": [
    "chipotle_data.describe()"
   ]
  },
  {
   "cell_type": "markdown",
   "metadata": {},
   "source": [
    "There a total of 4622 orders\n",
    "The mean is about 927\n",
    "The standard deviation lies around 529\n",
    "Minimum: 1\n",
    "1st quartile: 477\n",
    "2nd quartile: 926\n",
    "third quartile: 1393\n",
    "Maximum: 1834\n"
   ]
  },
  {
   "cell_type": "code",
   "execution_count": 5,
   "metadata": {},
   "outputs": [
    {
     "data": {
      "text/plain": [
       "Index(['order_id', 'quantity', 'item_name', 'choice_description',\n",
       "       'item_price'],\n",
       "      dtype='object')"
      ]
     },
     "execution_count": 5,
     "metadata": {},
     "output_type": "execute_result"
    }
   ],
   "source": [
    "chipotle_data.columns"
   ]
  },
  {
   "cell_type": "code",
   "execution_count": 6,
   "metadata": {},
   "outputs": [
    {
     "data": {
      "text/html": [
       "<div>\n",
       "<style scoped>\n",
       "    .dataframe tbody tr th:only-of-type {\n",
       "        vertical-align: middle;\n",
       "    }\n",
       "\n",
       "    .dataframe tbody tr th {\n",
       "        vertical-align: top;\n",
       "    }\n",
       "\n",
       "    .dataframe thead th {\n",
       "        text-align: right;\n",
       "    }\n",
       "</style>\n",
       "<table border=\"1\" class=\"dataframe\">\n",
       "  <thead>\n",
       "    <tr style=\"text-align: right;\">\n",
       "      <th></th>\n",
       "      <th>order_id</th>\n",
       "      <th>quantity</th>\n",
       "      <th>item_name</th>\n",
       "      <th>choice_description</th>\n",
       "      <th>item_price</th>\n",
       "    </tr>\n",
       "  </thead>\n",
       "  <tbody>\n",
       "    <tr>\n",
       "      <th>0</th>\n",
       "      <td>1</td>\n",
       "      <td>1</td>\n",
       "      <td>Chips and Fresh Tomato Salsa</td>\n",
       "      <td>NaN</td>\n",
       "      <td>$2.39</td>\n",
       "    </tr>\n",
       "    <tr>\n",
       "      <th>3020</th>\n",
       "      <td>1201</td>\n",
       "      <td>1</td>\n",
       "      <td>Canned Soda</td>\n",
       "      <td>[Diet Dr. Pepper]</td>\n",
       "      <td>$1.09</td>\n",
       "    </tr>\n",
       "    <tr>\n",
       "      <th>3021</th>\n",
       "      <td>1201</td>\n",
       "      <td>1</td>\n",
       "      <td>Bottled Water</td>\n",
       "      <td>NaN</td>\n",
       "      <td>$1.09</td>\n",
       "    </tr>\n",
       "    <tr>\n",
       "      <th>3022</th>\n",
       "      <td>1201</td>\n",
       "      <td>1</td>\n",
       "      <td>Side of Chips</td>\n",
       "      <td>NaN</td>\n",
       "      <td>$1.69</td>\n",
       "    </tr>\n",
       "    <tr>\n",
       "      <th>3023</th>\n",
       "      <td>1202</td>\n",
       "      <td>1</td>\n",
       "      <td>Chicken Bowl</td>\n",
       "      <td>[[Fresh Tomato Salsa (Mild), Roasted Chili Cor...</td>\n",
       "      <td>$8.49</td>\n",
       "    </tr>\n",
       "    <tr>\n",
       "      <th>...</th>\n",
       "      <td>...</td>\n",
       "      <td>...</td>\n",
       "      <td>...</td>\n",
       "      <td>...</td>\n",
       "      <td>...</td>\n",
       "    </tr>\n",
       "    <tr>\n",
       "      <th>2441</th>\n",
       "      <td>970</td>\n",
       "      <td>5</td>\n",
       "      <td>Bottled Water</td>\n",
       "      <td>NaN</td>\n",
       "      <td>$7.50</td>\n",
       "    </tr>\n",
       "    <tr>\n",
       "      <th>3599</th>\n",
       "      <td>1443</td>\n",
       "      <td>7</td>\n",
       "      <td>Bottled Water</td>\n",
       "      <td>NaN</td>\n",
       "      <td>$10.50</td>\n",
       "    </tr>\n",
       "    <tr>\n",
       "      <th>3887</th>\n",
       "      <td>1559</td>\n",
       "      <td>8</td>\n",
       "      <td>Side of Chips</td>\n",
       "      <td>NaN</td>\n",
       "      <td>$13.52</td>\n",
       "    </tr>\n",
       "    <tr>\n",
       "      <th>4152</th>\n",
       "      <td>1660</td>\n",
       "      <td>10</td>\n",
       "      <td>Bottled Water</td>\n",
       "      <td>NaN</td>\n",
       "      <td>$15.00</td>\n",
       "    </tr>\n",
       "    <tr>\n",
       "      <th>3598</th>\n",
       "      <td>1443</td>\n",
       "      <td>15</td>\n",
       "      <td>Chips and Fresh Tomato Salsa</td>\n",
       "      <td>NaN</td>\n",
       "      <td>$44.25</td>\n",
       "    </tr>\n",
       "  </tbody>\n",
       "</table>\n",
       "<p>4622 rows × 5 columns</p>\n",
       "</div>"
      ],
      "text/plain": [
       "      order_id  quantity                     item_name  \\\n",
       "0            1         1  Chips and Fresh Tomato Salsa   \n",
       "3020      1201         1                   Canned Soda   \n",
       "3021      1201         1                 Bottled Water   \n",
       "3022      1201         1                 Side of Chips   \n",
       "3023      1202         1                  Chicken Bowl   \n",
       "...        ...       ...                           ...   \n",
       "2441       970         5                 Bottled Water   \n",
       "3599      1443         7                 Bottled Water   \n",
       "3887      1559         8                 Side of Chips   \n",
       "4152      1660        10                 Bottled Water   \n",
       "3598      1443        15  Chips and Fresh Tomato Salsa   \n",
       "\n",
       "                                     choice_description item_price  \n",
       "0                                                   NaN     $2.39   \n",
       "3020                                  [Diet Dr. Pepper]     $1.09   \n",
       "3021                                                NaN     $1.09   \n",
       "3022                                                NaN     $1.69   \n",
       "3023  [[Fresh Tomato Salsa (Mild), Roasted Chili Cor...     $8.49   \n",
       "...                                                 ...        ...  \n",
       "2441                                                NaN     $7.50   \n",
       "3599                                                NaN    $10.50   \n",
       "3887                                                NaN    $13.52   \n",
       "4152                                                NaN    $15.00   \n",
       "3598                                                NaN    $44.25   \n",
       "\n",
       "[4622 rows x 5 columns]"
      ]
     },
     "execution_count": 6,
     "metadata": {},
     "output_type": "execute_result"
    }
   ],
   "source": [
    "chipotle_data.sort_values(by='quantity')"
   ]
  },
  {
   "cell_type": "markdown",
   "metadata": {},
   "source": [
    "The most ordered item would be Chips and Fresh Tomato Salsa"
   ]
  },
  {
   "cell_type": "code",
   "execution_count": 7,
   "metadata": {},
   "outputs": [],
   "source": [
    "chipotle_data['item_price'] = chipotle_data['item_price'].str.replace(\"$\", \"\")\n",
    "\n",
    "chipotle_data['item_price'] = chipotle_data['item_price'].astype(float)"
   ]
  },
  {
   "cell_type": "code",
   "execution_count": 8,
   "metadata": {},
   "outputs": [
    {
     "name": "stdout",
     "output_type": "stream",
     "text": [
      "34500.16\n"
     ]
    }
   ],
   "source": [
    "total = chipotle_data['item_price'].sum()\n",
    "print(total)"
   ]
  },
  {
   "cell_type": "markdown",
   "metadata": {},
   "source": [
    "The total revenue is $34500.16."
   ]
  },
  {
   "cell_type": "code",
   "execution_count": 9,
   "metadata": {},
   "outputs": [
    {
     "data": {
      "text/plain": [
       "<bound method Series.max of 0          1\n",
       "1          1\n",
       "2          1\n",
       "3          1\n",
       "4          2\n",
       "        ... \n",
       "4617    1833\n",
       "4618    1833\n",
       "4619    1834\n",
       "4620    1834\n",
       "4621    1834\n",
       "Name: order_id, Length: 4622, dtype: int64>"
      ]
     },
     "execution_count": 9,
     "metadata": {},
     "output_type": "execute_result"
    }
   ],
   "source": [
    "chipotle_data['order_id'].max"
   ]
  },
  {
   "cell_type": "markdown",
   "metadata": {},
   "source": [
    "There were 1834 orders."
   ]
  },
  {
   "cell_type": "code",
   "execution_count": 10,
   "metadata": {},
   "outputs": [
    {
     "name": "stdout",
     "output_type": "stream",
     "text": [
      "      order_id  quantity           item_name  \\\n",
      "4            2         2        Chicken Bowl   \n",
      "5            3         1        Chicken Bowl   \n",
      "7            4         1       Steak Burrito   \n",
      "13           7         1        Chicken Bowl   \n",
      "23          12         1     Chicken Burrito   \n",
      "...        ...       ...                 ...   \n",
      "4610      1830         1       Steak Burrito   \n",
      "4611      1830         1      Veggie Burrito   \n",
      "4617      1833         1       Steak Burrito   \n",
      "4618      1833         1       Steak Burrito   \n",
      "4619      1834         1  Chicken Salad Bowl   \n",
      "\n",
      "                                     choice_description  item_price  \n",
      "4     [Tomatillo-Red Chili Salsa (Hot), [Black Beans...       16.98  \n",
      "5     [Fresh Tomato Salsa (Mild), [Rice, Cheese, Sou...       10.98  \n",
      "7     [Tomatillo Red Chili Salsa, [Fajita Vegetables...       11.75  \n",
      "13    [Fresh Tomato Salsa, [Fajita Vegetables, Rice,...       11.25  \n",
      "23    [[Tomatillo-Green Chili Salsa (Medium), Tomati...       10.98  \n",
      "...                                                 ...         ...  \n",
      "4610  [Fresh Tomato Salsa, [Rice, Sour Cream, Cheese...       11.75  \n",
      "4611  [Tomatillo Green Chili Salsa, [Rice, Fajita Ve...       11.25  \n",
      "4617  [Fresh Tomato Salsa, [Rice, Black Beans, Sour ...       11.75  \n",
      "4618  [Fresh Tomato Salsa, [Rice, Sour Cream, Cheese...       11.75  \n",
      "4619  [Fresh Tomato Salsa, [Fajita Vegetables, Pinto...       11.25  \n",
      "\n",
      "[1130 rows x 5 columns]\n"
     ]
    }
   ],
   "source": [
    "ten_plus = (chipotle_data[chipotle_data['item_price'] > 10])\n",
    "print(ten_plus)"
   ]
  },
  {
   "cell_type": "code",
   "execution_count": 11,
   "metadata": {},
   "outputs": [
    {
     "data": {
      "text/plain": [
       "array(['Chips and Fresh Tomato Salsa', 'Izze', 'Nantucket Nectar',\n",
       "       'Chips and Tomatillo-Green Chili Salsa', 'Chicken Bowl',\n",
       "       'Side of Chips', 'Steak Burrito', 'Steak Soft Tacos',\n",
       "       'Chips and Guacamole', 'Chicken Crispy Tacos',\n",
       "       'Chicken Soft Tacos', 'Chicken Burrito', 'Canned Soda',\n",
       "       'Barbacoa Burrito', 'Carnitas Burrito', 'Carnitas Bowl',\n",
       "       'Bottled Water', 'Chips and Tomatillo Green Chili Salsa',\n",
       "       'Barbacoa Bowl', 'Chips', 'Chicken Salad Bowl', 'Steak Bowl',\n",
       "       'Barbacoa Soft Tacos', 'Veggie Burrito', 'Veggie Bowl',\n",
       "       'Steak Crispy Tacos', 'Chips and Tomatillo Red Chili Salsa',\n",
       "       'Barbacoa Crispy Tacos', 'Veggie Salad Bowl',\n",
       "       'Chips and Roasted Chili-Corn Salsa',\n",
       "       'Chips and Roasted Chili Corn Salsa', 'Carnitas Soft Tacos',\n",
       "       'Chicken Salad', 'Canned Soft Drink', 'Steak Salad Bowl',\n",
       "       '6 Pack Soft Drink', 'Chips and Tomatillo-Red Chili Salsa', 'Bowl',\n",
       "       'Burrito', 'Crispy Tacos', 'Carnitas Crispy Tacos', 'Steak Salad',\n",
       "       'Chips and Mild Fresh Tomato Salsa', 'Veggie Soft Tacos',\n",
       "       'Carnitas Salad Bowl', 'Barbacoa Salad Bowl', 'Salad',\n",
       "       'Veggie Crispy Tacos', 'Veggie Salad', 'Carnitas Salad'],\n",
       "      dtype=object)"
      ]
     },
     "execution_count": 11,
     "metadata": {},
     "output_type": "execute_result"
    }
   ],
   "source": [
    "chipotle_data['item_name'].unique()"
   ]
  },
  {
   "cell_type": "code",
   "execution_count": 16,
   "metadata": {},
   "outputs": [
    {
     "data": {
      "text/plain": [
       "<function matplotlib.pyplot.show(close=None, block=None)>"
      ]
     },
     "execution_count": 16,
     "metadata": {},
     "output_type": "execute_result"
    },
    {
     "data": {
      "image/png": "[encoded data removed]",
      "text/plain": [
       "<Figure size 640x480 with 1 Axes>"
      ]
     },
     "metadata": {},
     "output_type": "display_data"
    }
   ],
   "source": [
    "unique_items = chipotle_data['item_name'].unique()\n",
    "\n",
    "sns.countplot(x=unique_items)\n",
    "plt.show"
   ]
  }
 ],
 "metadata": {
  "kernelspec": {
   "display_name": "Python 3",
   "language": "python",
   "name": "python3"
  },
  "language_info": {
   "codemirror_mode": {
    "name": "ipython",
    "version": 3
   },
   "file_extension": ".py",
   "mimetype": "text/x-python",
   "name": "python",
   "nbconvert_exporter": "python",
   "pygments_lexer": "ipython3",
   "version": "3.12.0"
  }
 },
 "nbformat": 4,
 "nbformat_minor": 2
}
